{
 "cells": [
  {
   "cell_type": "code",
   "execution_count": 1,
   "metadata": {},
   "outputs": [
    {
     "name": "stdout",
     "output_type": "stream",
     "text": [
      "importing Jupyter notebook from All_in_One.ipynb\n"
     ]
    }
   ],
   "source": [
    "import import_ipynb\n",
    "import All_in_One\n",
    "from collections import Counter"
   ]
  },
  {
   "cell_type": "code",
   "execution_count": 27,
   "metadata": {},
   "outputs": [],
   "source": [
    "class Feature_importance:\n",
    "    def __init__(self,output:str):\n",
    "        self.output = output\n",
    "    \n",
    "    def scores_dict(self):    \n",
    "        models = ['lr','knn','svr','pca','sgdr','plsr1']\n",
    "        cases = ['c1','c2']\n",
    "\n",
    "        imp_scores = []\n",
    "        for case in cases:\n",
    "            for model in models:\n",
    "                aio = All_in_One.All_in_one(case,model,self.output,3)\n",
    "                imp_score_train = aio.permutation_importance(True)\n",
    "                imp_score_test = aio.permutation_importance(False)\n",
    "                model_dict = dict(Counter(imp_score_train) + Counter(imp_score_test))\n",
    "                imp_scores.append(model_dict)\n",
    "#                 print(model_dict)\n",
    "        return imp_scores\n",
    "    \n",
    "    def average_score(self):\n",
    "        imp_scores = self.scores_dict()\n",
    "        sum_dict = imp_scores[0]\n",
    "        for dict_ in imp_scores[1:]:\n",
    "            temp_dict = dict(Counter(sum_dict) + Counter(dict_))\n",
    "            sum_dict = temp_dict\n",
    "        total = 12\n",
    "        final_dict = {k: v / total for k, v in sum_dict.items()}\n",
    "        return final_dict"
   ]
  },
  {
   "cell_type": "code",
   "execution_count": 28,
   "metadata": {},
   "outputs": [],
   "source": [
    "# score_heat = Feature_importance('heat')\n",
    "# final_dict = score_heat.average_score()\n",
    "# final_dict_heat\n",
    "# score_eff = Feature_importance('efficiency')\n",
    "# final = score_eff.average_score()\n",
    "# final"
   ]
  },
  {
   "cell_type": "code",
   "execution_count": null,
   "metadata": {},
   "outputs": [],
   "source": []
  }
 ],
 "metadata": {
  "kernelspec": {
   "display_name": "Python 3",
   "language": "python",
   "name": "python3"
  },
  "language_info": {
   "codemirror_mode": {
    "name": "ipython",
    "version": 3
   },
   "file_extension": ".py",
   "mimetype": "text/x-python",
   "name": "python",
   "nbconvert_exporter": "python",
   "pygments_lexer": "ipython3",
   "version": "3.8.5"
  }
 },
 "nbformat": 4,
 "nbformat_minor": 4
}
